{
 "cells": [
  {
   "cell_type": "markdown",
   "metadata": {},
   "source": [
    "---\n",
    "## Admin"
   ]
  },
  {
   "cell_type": "code",
   "execution_count": 1,
   "metadata": {},
   "outputs": [],
   "source": [
    "import numpy as np\n",
    "import pandas as pd\n",
    "import tensorflow as tf"
   ]
  },
  {
   "cell_type": "code",
   "execution_count": 2,
   "metadata": {},
   "outputs": [],
   "source": [
    "import matplotlib.pyplot as plt\n",
    "%matplotlib inline\n",
    "\n",
    "plt.rcParams['figure.figsize'] = (16.0, 6.0)"
   ]
  },
  {
   "cell_type": "markdown",
   "metadata": {},
   "source": [
    "---\n",
    "## Step 0: Load The Data"
   ]
  },
  {
   "cell_type": "code",
   "execution_count": 3,
   "metadata": {},
   "outputs": [],
   "source": [
    "# Load pickled data\n",
    "import pickle\n",
    "\n",
    "# TODO: Fill this in based on where you saved the training and testing data\n",
    "\n",
    "inputs_loc = '/media/fqaiser94/ff3daf1f-fc36-43a4-a218-478126941f2a/traffic-signs-data/'\n",
    "\n",
    "training_file = inputs_loc + 'train.p'\n",
    "validation_file= inputs_loc + 'valid.p'\n",
    "testing_file = inputs_loc + 'test.p'\n",
    "\n",
    "with open(training_file, mode='rb') as f:\n",
    "    train = pickle.load(f)\n",
    "with open(validation_file, mode='rb') as f:\n",
    "    valid = pickle.load(f)\n",
    "with open(testing_file, mode='rb') as f:\n",
    "    test = pickle.load(f)\n",
    "    \n",
    "X_train, y_train = train['features'], train['labels']\n",
    "X_valid, y_valid = valid['features'], valid['labels']\n",
    "X_test, y_test = test['features'], test['labels']"
   ]
  },
  {
   "cell_type": "markdown",
   "metadata": {},
   "source": [
    "---\n",
    "\n",
    "## Step 1: Prep Data"
   ]
  },
  {
   "cell_type": "code",
   "execution_count": 4,
   "metadata": {},
   "outputs": [],
   "source": [
    "### Preprocess the data here. It is required to normalize the data. Other preprocessing steps could include \n",
    "### converting to grayscale, etc.\n",
    "### Feel free to use as many code cells as needed. \n",
    "\n",
    "def normalize(data):\n",
    "    \n",
    "    data_normalized = (data - 128) / 128\n",
    "    \n",
    "    return data_normalized"
   ]
  },
  {
   "cell_type": "code",
   "execution_count": 5,
   "metadata": {},
   "outputs": [],
   "source": [
    "X_train_norm = normalize(X_train)\n",
    "X_valid_norm = normalize(X_valid)\n",
    "X_test_norm = normalize(X_test)"
   ]
  },
  {
   "cell_type": "code",
   "execution_count": 6,
   "metadata": {},
   "outputs": [
    {
     "name": "stdout",
     "output_type": "stream",
     "text": [
      "old mean: 82.677589037\n",
      "old std:  67.8508884263\n",
      "new mean: 1.21925099939\n",
      "new std:  0.449703953545\n"
     ]
    }
   ],
   "source": [
    "print('old mean: %s' %np.mean(X_train))\n",
    "print('old std:  %s' %np.std(X_train))\n",
    "\n",
    "print('new mean: %s' %np.mean(X_train_norm))\n",
    "print('new std:  %s' %np.std(X_train_norm))"
   ]
  },
  {
   "cell_type": "markdown",
   "metadata": {},
   "source": [
    "----\n",
    "\n",
    "## Step 2: Design and Test a Model Architecture"
   ]
  },
  {
   "cell_type": "markdown",
   "metadata": {},
   "source": [
    "### Model Architecture"
   ]
  },
  {
   "cell_type": "markdown",
   "metadata": {},
   "source": [
    "define helper function"
   ]
  },
  {
   "cell_type": "code",
   "execution_count": 7,
   "metadata": {},
   "outputs": [],
   "source": [
    "def calc_filter_length(old_length, new_length, padding, stride): \n",
    "\n",
    "    # OG formula\n",
    "    # new_width = (old_width - filter_width + 2*padding)/stride + 1\n",
    "    # rewrite to solve for filter_width\n",
    "    filter_length = -1*(stride*(new_length-1) - 2*padding - old_length)    \n",
    "    \n",
    "    return filter_length"
   ]
  },
  {
   "cell_type": "code",
   "execution_count": 8,
   "metadata": {},
   "outputs": [],
   "source": [
    "# test function \n",
    "\n",
    "filter_length = calc_filter_length(old_length = 32, \n",
    "                                  new_length = 28, \n",
    "                                  padding = 0, \n",
    "                                  stride = 1\n",
    "                                 )\n",
    "assert filter_length==5, \"Houston we've got a problem\""
   ]
  },
  {
   "cell_type": "markdown",
   "metadata": {},
   "source": [
    "define training pipeline/architecture. "
   ]
  },
  {
   "cell_type": "code",
   "execution_count": 9,
   "metadata": {},
   "outputs": [],
   "source": [
    "# from tensorflow.contrib.layers import flatten\n",
    "\n",
    "\n",
    "# def LeNet(x):\n",
    "    \n",
    "#     x = tf.cast(x, tf.float32)\n",
    "    \n",
    "#     mu = 0\n",
    "#     sigma = 0.1\n",
    "    \n",
    "#     # layer 1\n",
    "#     # convolution\n",
    "    \n",
    "#     conv_w1 = tf.Variable(\n",
    "#         tf.truncated_normal(\n",
    "#             shape=(5,5,3,6), # width, height, input depth, output depth\n",
    "#             mean=mu,\n",
    "#             stddev=sigma,\n",
    "#             dtype=tf.float32,\n",
    "#             seed=None,\n",
    "#             name=None\n",
    "#         )\n",
    "#     )\n",
    "    \n",
    "#     conv_b1 = tf.Variable(\n",
    "#         tf.zeros(6)\n",
    "#     )\n",
    "    \n",
    "#     conv1 = tf.nn.conv2d(\n",
    "#         input=x, \n",
    "#         filter=conv_w1, \n",
    "#         strides=[1,1,1,1], \n",
    "#         padding='VALID'\n",
    "#     ) + conv_b1\n",
    "    \n",
    "#     # Activation\n",
    "    \n",
    "#     conv1 = tf.nn.relu(conv1)\n",
    "    \n",
    "#     # pooling\n",
    "    \n",
    "#     conv1 = tf.nn.max_pool(\n",
    "#         value=conv1, \n",
    "#         ksize=[1,2,2,1], \n",
    "#         strides=[1,2,2,1], \n",
    "#         padding='VALID'\n",
    "#     )\n",
    "    \n",
    "#     # layer 2\n",
    "#     # convolution\n",
    "\n",
    "#     conv_w2 = tf.Variable(\n",
    "#         tf.truncated_normal(\n",
    "#             shape=(5,5,6,16), # width, height, input depth, output depth\n",
    "#             mean=mu,\n",
    "#             stddev=sigma,\n",
    "#             dtype=tf.float32,\n",
    "#             seed=None,\n",
    "#             name=None\n",
    "#         )\n",
    "#     )\n",
    "    \n",
    "#     conv_b2 = tf.Variable(\n",
    "#         tf.zeros(16)\n",
    "#     )\n",
    "    \n",
    "#     conv2 = tf.nn.conv2d(\n",
    "#         input=conv1, \n",
    "#         filter=conv_w2, \n",
    "#         strides=[1,1,1,1], \n",
    "#         padding='VALID'\n",
    "#     ) + conv_b2\n",
    "    \n",
    "#     # Activation\n",
    "    \n",
    "#     conv2 = tf.nn.relu(\n",
    "#         conv2\n",
    "#     )\n",
    "    \n",
    "#     # pooling\n",
    "    \n",
    "#     conv2 = tf.nn.max_pool(\n",
    "#         value=conv2, \n",
    "#         ksize=[1,2,2,1], \n",
    "#         strides=[1,2,2,1], \n",
    "#         padding='VALID'\n",
    "#     )\n",
    "    \n",
    "#     # flatten 0\n",
    "    \n",
    "#     fc0 = flatten(\n",
    "#         conv2\n",
    "#     )\n",
    "    \n",
    "#     # Layer 3: Fully Connected. \n",
    "#     # Input = 400\n",
    "#     # Output = 120\n",
    "#     # (input, output)\n",
    "#     fc1_W = tf.Variable(\n",
    "#         tf.truncated_normal(\n",
    "#             shape=(400, 120), \n",
    "#             mean = mu, \n",
    "#             stddev = sigma\n",
    "#         )\n",
    "#     )\n",
    "    \n",
    "#     # (output)\n",
    "#     fc1_b = tf.Variable(\n",
    "#         tf.zeros(120)\n",
    "#     )\n",
    "    \n",
    "#     # regression\n",
    "#     fc1 = tf.matmul(fc0, fc1_W) + fc1_b\n",
    "    \n",
    "#     # Activation\n",
    "#     fc1 = tf.nn.relu(fc1)\n",
    "    \n",
    "#     # Layer 4: Fully Connected. \n",
    "#     # Input = 120\n",
    "#     # Output = 84\n",
    "#     # (input, output)\n",
    "#     fc2_W  = tf.Variable(\n",
    "#         tf.truncated_normal(\n",
    "#             shape=(120, 84), \n",
    "#             mean = mu, \n",
    "#             stddev = sigma)\n",
    "#     )\n",
    "    \n",
    "#     fc2_b  = tf.Variable(tf.zeros(84))\n",
    "    \n",
    "#     # regression\n",
    "#     fc2    = tf.matmul(fc1, fc2_W) + fc2_b\n",
    "    \n",
    "#     # Activation\n",
    "#     fc2    = tf.nn.relu(fc2)\n",
    "    \n",
    "#     # Layer 5: Fully Connected\n",
    "#     # Input = 84\n",
    "#     # Output = 10\n",
    "#     # (input, output)\n",
    "#     fc3_W  = tf.Variable(\n",
    "#         tf.truncated_normal(\n",
    "#             shape=(84, 43), \n",
    "#             mean = mu, \n",
    "#             stddev = sigma\n",
    "#         )\n",
    "#     )\n",
    "    \n",
    "#     # (output)\n",
    "#     fc3_b  = tf.Variable(\n",
    "#         tf.zeros(43)\n",
    "#     )\n",
    "   \n",
    "#     # regression\n",
    "#     logits = tf.matmul(fc2, fc3_W) + fc3_b\n",
    "    \n",
    "#     return logits"
   ]
  },
  {
   "cell_type": "code",
   "execution_count": 16,
   "metadata": {},
   "outputs": [],
   "source": [
    "# official solution\n",
    "\n",
    "def LeNet(x):    \n",
    "    # Arguments used for tf.truncated_normal, randomly defines variables for the weights and biases for each layer\n",
    "    mu = 0\n",
    "    sigma = 0.1\n",
    "    \n",
    "    # SOLUTION: Layer 1: Convolutional. Input = 32x32x1. Output = 28x28x6.\n",
    "    conv1_W = tf.Variable(tf.truncated_normal(shape=(5, 5, 3, 6), mean = mu, stddev = sigma))\n",
    "    conv1_b = tf.Variable(tf.zeros(6))\n",
    "    conv1   = tf.nn.conv2d(x, conv1_W, strides=[1, 1, 1, 1], padding='VALID') + conv1_b\n",
    "\n",
    "    # SOLUTION: Activation.\n",
    "    conv1 = tf.nn.relu(conv1)\n",
    "\n",
    "    # SOLUTION: Pooling. Input = 28x28x6. Output = 14x14x6.\n",
    "    conv1 = tf.nn.max_pool(conv1, ksize=[1, 2, 2, 1], strides=[1, 2, 2, 1], padding='VALID')\n",
    "\n",
    "    # SOLUTION: Layer 2: Convolutional. Output = 10x10x16.\n",
    "    conv2_W = tf.Variable(tf.truncated_normal(shape=(5, 5, 6, 16), mean = mu, stddev = sigma))\n",
    "    conv2_b = tf.Variable(tf.zeros(16))\n",
    "    conv2   = tf.nn.conv2d(conv1, conv2_W, strides=[1, 1, 1, 1], padding='VALID') + conv2_b\n",
    "    \n",
    "    # SOLUTION: Activation.\n",
    "    conv2 = tf.nn.relu(conv2)\n",
    "\n",
    "    # SOLUTION: Pooling. Input = 10x10x16. Output = 5x5x16.\n",
    "    conv2 = tf.nn.max_pool(conv2, ksize=[1, 2, 2, 1], strides=[1, 2, 2, 1], padding='VALID')\n",
    "\n",
    "    # SOLUTION: Flatten. Input = 5x5x16. Output = 400.\n",
    "    fc0   = flatten(conv2)\n",
    "    \n",
    "    # SOLUTION: Layer 3: Fully Connected. Input = 400. Output = 120.\n",
    "    fc1_W = tf.Variable(tf.truncated_normal(shape=(400, 120), mean = mu, stddev = sigma))\n",
    "    fc1_b = tf.Variable(tf.zeros(120))\n",
    "    fc1   = tf.matmul(fc0, fc1_W) + fc1_b\n",
    "    \n",
    "    # SOLUTION: Activation.\n",
    "    fc1    = tf.nn.relu(fc1)\n",
    "\n",
    "    # SOLUTION: Layer 4: Fully Connected. Input = 120. Output = 84.\n",
    "    fc2_W  = tf.Variable(tf.truncated_normal(shape=(120, 84), mean = mu, stddev = sigma))\n",
    "    fc2_b  = tf.Variable(tf.zeros(84))\n",
    "    fc2    = tf.matmul(fc1, fc2_W) + fc2_b\n",
    "    \n",
    "    # SOLUTION: Activation.\n",
    "    fc2    = tf.nn.relu(fc2)\n",
    "\n",
    "    # SOLUTION: Layer 5: Fully Connected. Input = 84. Output = 43.\n",
    "    fc3_W  = tf.Variable(tf.truncated_normal(shape=(84, 43), mean = mu, stddev = sigma))\n",
    "    fc3_b  = tf.Variable(tf.zeros(43))\n",
    "    logits = tf.matmul(fc2, fc3_W) + fc3_b\n",
    "    \n",
    "    return logits"
   ]
  },
  {
   "cell_type": "markdown",
   "metadata": {},
   "source": [
    "### Train, Validate and Test the Model"
   ]
  },
  {
   "cell_type": "markdown",
   "metadata": {},
   "source": [
    "A validation set can be used to assess how well the model is performing. A low accuracy on the training and validation\n",
    "sets imply underfitting. A high accuracy on the training set but low accuracy on the validation set implies overfitting."
   ]
  },
  {
   "cell_type": "code",
   "execution_count": 17,
   "metadata": {},
   "outputs": [],
   "source": [
    "### Train your model here.\n",
    "### Calculate and report the accuracy on the training and validation set.\n",
    "### Once a final model architecture is selected, \n",
    "### the accuracy on the test set should be calculated and reported as well.\n",
    "### Feel free to use as many code cells as needed."
   ]
  },
  {
   "cell_type": "code",
   "execution_count": 18,
   "metadata": {},
   "outputs": [],
   "source": [
    "from sklearn.utils import shuffle\n",
    "\n",
    "# X_train, y_train = shuffle(X_train, y_train)"
   ]
  },
  {
   "cell_type": "code",
   "execution_count": 19,
   "metadata": {},
   "outputs": [],
   "source": [
    "import tensorflow as tf\n",
    "\n",
    "EPOCHS = 10\n",
    "BATCH_SIZE = 128"
   ]
  },
  {
   "cell_type": "code",
   "execution_count": 20,
   "metadata": {},
   "outputs": [],
   "source": [
    "x = tf.placeholder(tf.float32, (None, 32, 32, 3))\n",
    "y = tf.placeholder(tf.int32, (None))\n",
    "one_hot_y = tf.one_hot(y, 43)"
   ]
  },
  {
   "cell_type": "code",
   "execution_count": 21,
   "metadata": {},
   "outputs": [],
   "source": [
    "rate = 0.001\n",
    "\n",
    "logits = LeNet(x)\n",
    "cross_entropy = tf.nn.softmax_cross_entropy_with_logits(labels=one_hot_y, logits=logits)\n",
    "loss_operation = tf.reduce_mean(cross_entropy)\n",
    "optimizer = tf.train.AdamOptimizer(learning_rate = rate)\n",
    "training_operation = optimizer.minimize(loss_operation)"
   ]
  },
  {
   "cell_type": "code",
   "execution_count": 22,
   "metadata": {},
   "outputs": [],
   "source": [
    "correct_prediction = tf.equal(tf.argmax(logits, 1), tf.argmax(one_hot_y, 1))\n",
    "accuracy_operation = tf.reduce_mean(tf.cast(correct_prediction, tf.float32))\n",
    "saver = tf.train.Saver()\n",
    "\n",
    "def evaluate(X_data, y_data):\n",
    "    num_examples = len(X_data)\n",
    "    total_accuracy = 0\n",
    "    sess = tf.get_default_session()\n",
    "    for offset in range(0, num_examples, BATCH_SIZE):\n",
    "        batch_x, batch_y = X_data[offset:offset+BATCH_SIZE], y_data[offset:offset+BATCH_SIZE]\n",
    "        accuracy = sess.run(accuracy_operation, feed_dict={x: batch_x, y: batch_y})\n",
    "        total_accuracy += (accuracy * len(batch_x))\n",
    "    return total_accuracy / num_examples"
   ]
  },
  {
   "cell_type": "code",
   "execution_count": 23,
   "metadata": {},
   "outputs": [
    {
     "name": "stdout",
     "output_type": "stream",
     "text": [
      "Training...\n",
      "\n",
      "EPOCH 1 ...\n",
      "Validation Accuracy = 0.061\n",
      "\n",
      "EPOCH 2 ...\n",
      "Validation Accuracy = 0.079\n",
      "\n",
      "EPOCH 3 ...\n",
      "Validation Accuracy = 0.055\n",
      "\n",
      "EPOCH 4 ...\n",
      "Validation Accuracy = 0.055\n",
      "\n",
      "EPOCH 5 ...\n",
      "Validation Accuracy = 0.052\n",
      "\n",
      "EPOCH 6 ...\n",
      "Validation Accuracy = 0.049\n",
      "\n",
      "EPOCH 7 ...\n",
      "Validation Accuracy = 0.088\n",
      "\n",
      "EPOCH 8 ...\n",
      "Validation Accuracy = 0.081\n",
      "\n",
      "EPOCH 9 ...\n",
      "Validation Accuracy = 0.089\n",
      "\n",
      "EPOCH 10 ...\n",
      "Validation Accuracy = 0.074\n",
      "\n",
      "Model saved\n"
     ]
    }
   ],
   "source": [
    "with tf.Session() as sess:\n",
    "    sess.run(tf.global_variables_initializer())\n",
    "    num_examples = len(X_train)\n",
    "    \n",
    "    print(\"Training...\")\n",
    "    print()\n",
    "    for i in range(EPOCHS):\n",
    "        X_train, y_train = shuffle(X_train, y_train)\n",
    "        for offset in range(0, num_examples, BATCH_SIZE):\n",
    "            end = offset + BATCH_SIZE\n",
    "            batch_x, batch_y = X_train[offset:end], y_train[offset:end]\n",
    "            sess.run(training_operation, feed_dict={x: batch_x, y: batch_y})\n",
    "            \n",
    "        validation_accuracy = evaluate(X_valid_norm, y_valid)\n",
    "        print(\"EPOCH {} ...\".format(i+1))\n",
    "        print(\"Validation Accuracy = {:.3f}\".format(validation_accuracy))\n",
    "        print()\n",
    "        \n",
    "    saver.save(sess, './lenet')\n",
    "    print(\"Model saved\")"
   ]
  },
  {
   "cell_type": "code",
   "execution_count": null,
   "metadata": {},
   "outputs": [],
   "source": []
  },
  {
   "cell_type": "code",
   "execution_count": null,
   "metadata": {},
   "outputs": [],
   "source": []
  },
  {
   "cell_type": "code",
   "execution_count": null,
   "metadata": {},
   "outputs": [],
   "source": []
  },
  {
   "cell_type": "code",
   "execution_count": null,
   "metadata": {},
   "outputs": [],
   "source": []
  },
  {
   "cell_type": "code",
   "execution_count": null,
   "metadata": {},
   "outputs": [],
   "source": []
  },
  {
   "cell_type": "code",
   "execution_count": null,
   "metadata": {},
   "outputs": [],
   "source": []
  },
  {
   "cell_type": "code",
   "execution_count": null,
   "metadata": {},
   "outputs": [],
   "source": []
  },
  {
   "cell_type": "code",
   "execution_count": null,
   "metadata": {},
   "outputs": [],
   "source": [
    "# Here's a recipe I copied from one of Alex Mordvintsev deep dream notebook at some point\n",
    "\n",
    "from IPython.display import clear_output, Image, display, HTML\n",
    "\n",
    "def strip_consts(graph_def, max_const_size=32):\n",
    "    \"\"\"Strip large constant values from graph_def.\"\"\"\n",
    "    strip_def = tf.GraphDef()\n",
    "    for n0 in graph_def.node:\n",
    "        n = strip_def.node.add() \n",
    "        n.MergeFrom(n0)\n",
    "        if n.op == 'Const':\n",
    "            tensor = n.attr['value'].tensor\n",
    "            size = len(tensor.tensor_content)\n",
    "            if size > max_const_size:\n",
    "                tensor.tensor_content = bytes(\"<stripped %d bytes>\"%size, 'utf-8')\n",
    "    return strip_def\n",
    "\n",
    "def show_graph(graph_def, max_const_size=32):\n",
    "    \"\"\"Visualize TensorFlow graph.\"\"\"\n",
    "    if hasattr(graph_def, 'as_graph_def'):\n",
    "        graph_def = graph_def.as_graph_def()\n",
    "    strip_def = strip_consts(graph_def, max_const_size=max_const_size)\n",
    "    code = \"\"\"\n",
    "        <script>\n",
    "          function load() {{\n",
    "            document.getElementById(\"{id}\").pbtxt = {data};\n",
    "          }}\n",
    "        </script>\n",
    "        <link rel=\"import\" href=\"https://tensorboard.appspot.com/tf-graph-basic.build.html\" onload=load()>\n",
    "        <div style=\"height:600px\">\n",
    "          <tf-graph-basic id=\"{id}\"></tf-graph-basic>\n",
    "        </div>\n",
    "    \"\"\".format(data=repr(str(strip_def)), id='graph'+str(np.random.rand()))\n",
    "\n",
    "    iframe = \"\"\"\n",
    "        <iframe seamless style=\"width:1200px;height:620px;border:0\" srcdoc=\"{}\"></iframe>\n",
    "    \"\"\".format(code.replace('\"', '&quot;'))\n",
    "    display(HTML(iframe))"
   ]
  },
  {
   "cell_type": "code",
   "execution_count": null,
   "metadata": {},
   "outputs": [],
   "source": [
    "show_graph(tf.get_default_graph().as_graph_def())\n"
   ]
  },
  {
   "cell_type": "code",
   "execution_count": null,
   "metadata": {},
   "outputs": [],
   "source": []
  }
 ],
 "metadata": {
  "anaconda-cloud": {},
  "kernelspec": {
   "display_name": "Python 3",
   "language": "python",
   "name": "python3"
  },
  "language_info": {
   "codemirror_mode": {
    "name": "ipython",
    "version": 3
   },
   "file_extension": ".py",
   "mimetype": "text/x-python",
   "name": "python",
   "nbconvert_exporter": "python",
   "pygments_lexer": "ipython3",
   "version": "3.5.2"
  }
 },
 "nbformat": 4,
 "nbformat_minor": 1
}
